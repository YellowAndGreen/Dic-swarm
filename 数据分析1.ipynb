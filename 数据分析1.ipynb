{
 "cells": [
  {
   "cell_type": "markdown",
   "metadata": {
    "heading_collapsed": true
   },
   "source": [
    "### Numpy"
   ]
  },
  {
   "cell_type": "code",
   "execution_count": null,
   "metadata": {
    "hidden": true
   },
   "outputs": [],
   "source": [
    "import numpy as np\n",
    "\n",
    "#创建ndarray\n",
    "arr1= np.random.randint(1,high=5,size=(3,4))           #最小是1，最大是5，size是维度\n",
    "arr2= np.arange(10,dtype=\"float64\")                    #从0到9，指定类型是浮点数\n",
    "arr3= np.array([1,2,3,4,5])                            #通过数组创建\n",
    "\n",
    "#ndarray的基本属性\n",
    "print(arr1,arr2,arr3,arr1.dtype,arr2.dtype,arr1.shape,arr1.ndim,sep=\"\\t\")          "
   ]
  },
  {
   "cell_type": "code",
   "execution_count": null,
   "metadata": {
    "hidden": true
   },
   "outputs": [],
   "source": [
    "#类型转换，astype是生成一个新的array\n",
    "arr3= arr2.astype(\"int32\")\n",
    "print(arr3.dtype,arr2.dtype)"
   ]
  },
  {
   "cell_type": "code",
   "execution_count": null,
   "metadata": {
    "hidden": true
   },
   "outputs": [],
   "source": [
    "#数组切片\n",
    "arr4=arr2[5:8]                                 #取值左闭右开，修改arr4也会修改arr2\n",
    "print(arr4) \n",
    "arr5=arr2.copy()                               #通过arr2.copy复制而不影响\n",
    "arr4[0]=100\n",
    "print(arr2,arr5)\n",
    "\n",
    "#二维数组切片\n",
    "arr6 = arr1[:3,1:]                    #第一个是行切片，第二个是列切片\n",
    "print(arr6)"
   ]
  },
  {
   "cell_type": "code",
   "execution_count": null,
   "metadata": {
    "hidden": true
   },
   "outputs": [],
   "source": [
    "# 使用布尔数组进行查找比较，返回一个数组\n",
    "arr7 = np.arange(8)\n",
    "arr8 = arr7 == 7\n",
    "print(arr7,arr8)"
   ]
  },
  {
   "cell_type": "code",
   "execution_count": null,
   "metadata": {
    "hidden": true
   },
   "outputs": [],
   "source": [
    "# 二维数组转置，生成一个新的数组\n",
    "arr9 = np.arange(15).reshape(3,5)\n",
    "arr10 = arr9.T\n",
    "print(arr9,arr10,sep=\"\\n\")"
   ]
  },
  {
   "cell_type": "code",
   "execution_count": null,
   "metadata": {
    "hidden": true
   },
   "outputs": [],
   "source": [
    "# 条件逻辑进行数组操作np.where\n",
    "arr11 = np.random.randint(-10,high=10,size=(4,4))\n",
    "print(arr11)\n",
    "print(np.where(arr11>0,2,-2))     #第一个参数是条件，对数组中每个元素进行比较，第二个是为真的值，第三个为假"
   ]
  },
  {
   "cell_type": "markdown",
   "metadata": {
    "heading_collapsed": true,
    "hidden": true
   },
   "source": [
    "#### 数组统计方法"
   ]
  },
  {
   "cell_type": "code",
   "execution_count": null,
   "metadata": {
    "hidden": true
   },
   "outputs": [],
   "source": [
    "#  13  \n",
    "arr12 = np.random.randint(10,size=10)\n",
    "print(arr12,arr12.sum(),arr12.mean(),arr12.std(),arr12.var(),sep=\"\\t\")\n",
    "# 分别为和，平均值，标准差，方差"
   ]
  },
  {
   "cell_type": "code",
   "execution_count": null,
   "metadata": {
    "hidden": true
   },
   "outputs": [],
   "source": [
    "#数组排序\n",
    "print(arr12)\n",
    "arr12.sort()\n",
    "print(arr12)"
   ]
  },
  {
   "cell_type": "markdown",
   "metadata": {
    "heading_collapsed": true
   },
   "source": [
    "### Pandas"
   ]
  },
  {
   "cell_type": "code",
   "execution_count": null,
   "metadata": {
    "hidden": true
   },
   "outputs": [],
   "source": [
    "#创建Series\n",
    "obj1= pd.Series(np.arange(10),index=[\"a\",\"b\",1,2,3,4,5,6,7,8])\n",
    "obj2= pd.Series({\"Ohio\":1,\"Texas\":2})\n",
    "print(obj1,obj1.index,obj1.values,obj2,sep=\"\\t\")\n",
    "\n",
    "#使用索引来修改值\n",
    "obj1[\"a\"]= 20           \n",
    "print(obj1)\n",
    "\n",
    "#判断标签是否在Series中\n",
    "obj3= \"Ohio\" in obj2\n",
    "print(obj3)"
   ]
  },
  {
   "cell_type": "code",
   "execution_count": null,
   "metadata": {
    "hidden": true
   },
   "outputs": [],
   "source": [
    "# 创建DataFrame\n",
    "data = {'state': ['Ohio', 'Ohio', 'Ohio', 'Nevada', 'Nevada', 'Nevada'],\n",
    "        'year': [2000, 2001, 2002, 2001, 2002, 2003],\n",
    "        'pop': [1.5, 1.7, 3.6, 2.4, 2.9, 3.2]}\n",
    "frame = pd.DataFrame(data)                        #使用字典创建\n",
    "print(frame,frame.head(),frame.tail(),sep=\"/n\")   #head()显示前五行，tail()，显示后五行"
   ]
  },
  {
   "cell_type": "code",
   "execution_count": 36,
   "metadata": {
    "hidden": true,
    "scrolled": true
   },
   "outputs": [
    {
     "name": "stdout",
     "output_type": "stream",
     "text": [
      "       year   state  pop debt\n",
      "one    2000    Ohio  1.5  NaN\n",
      "two    2001    Ohio  1.7  NaN\n",
      "three  2002    Ohio  3.6  NaN\n",
      "four   2001  Nevada  2.4  NaN\n",
      "five   2002  Nevada  2.9  NaN\n",
      "six    2003  Nevada  3.2  NaN\n"
     ]
    },
    {
     "data": {
      "text/plain": [
       "Index(['year', 'state', 'pop', 'debt'], dtype='object')"
      ]
     },
     "execution_count": 36,
     "metadata": {},
     "output_type": "execute_result"
    }
   ],
   "source": [
    "#指定行标签和列标签\n",
    "frame2 = pd.DataFrame(data, columns=['year', 'state', 'pop', 'debt'],index=['one', 'two', 'three', 'four','five', 'six'])\n",
    "print(frame2)\n",
    "frame2.columns\n",
    "# 通过赋值的方式改变index\n",
    "# frame2.index = [1,2,3,4,5,6]\n",
    "# print(frame2)\n",
    "# 通过赋值的方式改变columns\n",
    "# frame2.columns = [1,23,3,4]\n",
    "# print(frame2)"
   ]
  },
  {
   "cell_type": "code",
   "execution_count": 39,
   "metadata": {
    "hidden": true
   },
   "outputs": [
    {
     "name": "stdout",
     "output_type": "stream",
     "text": [
      "one      2000\n",
      "two      2001\n",
      "three    2002\n",
      "four     2001\n",
      "five     2002\n",
      "six      2003\n",
      "Name: year, dtype: int64\n",
      "year     2000\n",
      "state    Ohio\n",
      "pop       1.5\n",
      "debt      NaN\n",
      "Name: one, dtype: object\n"
     ]
    }
   ],
   "source": [
    "#找到DataFrame的一列并且转换为Series\n",
    "print(frame2[\"year\"])\n",
    "\n",
    "#对行index无效,只能通过loc来完成\n",
    "# print(frame2[\"one\"])\n",
    "print(frame2.loc[\"one\"])"
   ]
  },
  {
   "cell_type": "code",
   "execution_count": 42,
   "metadata": {
    "hidden": true
   },
   "outputs": [
    {
     "name": "stdout",
     "output_type": "stream",
     "text": [
      "       year   state  pop debt\n",
      "one      10    Ohio  1.5  NaN\n",
      "two      10    Ohio  1.7  NaN\n",
      "three    10    Ohio  3.6  NaN\n",
      "four     10  Nevada  2.4  NaN\n",
      "five     10  Nevada  2.9  NaN\n",
      "six      10  Nevada  3.2  NaN\n",
      "       year   state   pop debt\n",
      "one      10      10  10.0   10\n",
      "two      10    Ohio   1.7  NaN\n",
      "three    10    Ohio   3.6  NaN\n",
      "four     10  Nevada   2.4  NaN\n",
      "five     10  Nevada   2.9  NaN\n",
      "six      10  Nevada   3.2  NaN\n"
     ]
    }
   ],
   "source": [
    "# 可以修改列的引用，但是行的引用同样只能通过loc修改\n",
    "frame2[\"year\"] = 10\n",
    "print(frame2)\n",
    "# frame[\"one\"] = 10\n",
    "frame2.loc[\"one\"] = 10\n",
    "print(frame2)"
   ]
  },
  {
   "cell_type": "code",
   "execution_count": null,
   "metadata": {
    "hidden": true
   },
   "outputs": [],
   "source": [
    "#移除某一列\n",
    "del frame2[\"one\"]\n",
    "print(frame2)"
   ]
  },
  {
   "cell_type": "code",
   "execution_count": null,
   "metadata": {
    "hidden": true
   },
   "outputs": [],
   "source": [
    "#调换行和列（numpy的语法）\n",
    "frame3= frame2.T\n",
    "frame3"
   ]
  },
  {
   "cell_type": "markdown",
   "metadata": {
    "heading_collapsed": true
   },
   "source": [
    "### Jupyter Notebook使用"
   ]
  },
  {
   "cell_type": "markdown",
   "metadata": {
    "hidden": true
   },
   "source": [
    "+ shift+enter执行代码\n",
    "+ A和B向上向下添加代码块\n",
    "+ enter进入编辑模式，esc退出编辑模式\n",
    "+ M转为Markdown,Y转入代码\n",
    "+ 代码自动补全：在插件中打开hinterland，按住tab自动补全\n",
    "+ 使用?显示函数的字符串，??显示源代码。例:add_numbers?\n",
    "+ 使用%run运行python文件。例：%run ipython.py\n",
    "+ %matplotlib inline 不知道有什么用处"
   ]
  },
  {
   "cell_type": "markdown",
   "metadata": {
    "heading_collapsed": true
   },
   "source": [
    "### Matplotlib"
   ]
  },
  {
   "cell_type": "code",
   "execution_count": 1,
   "metadata": {
    "hidden": true
   },
   "outputs": [
    {
     "data": {
      "image/png": "[encoded data removed]",
      "text/plain": [
       "<Figure size 432x288 with 2 Axes>"
      ]
     },
     "metadata": {
      "needs_background": "light"
     },
     "output_type": "display_data"
    }
   ],
   "source": [
    "import matplotlib.pyplot as plt\n",
    "import numpy as np\n",
    "# 创建figure对象\n",
    "fig = plt.figure()\n",
    "\n",
    "# 创建子图，绘制的图片在最后一个图上，因此应该绘制完成第一个图再创建第二个图\n",
    "ax1 = fig.add_subplot(2,2,1)\n",
    "plt.plot([1,2,3,4])\n",
    "ax2 = fig.add_subplot(2,2,2)   #前两个参数是长和宽，第三个参数是子图的序号\n",
    "plt.plot([1,4,8,10])\n",
    "plt.subplots_adjust(wspace=0,hspace=0)  #调整子图之间的间距，为0则互相挨着"
   ]
  },
  {
   "cell_type": "code",
   "execution_count": 65,
   "metadata": {
    "hidden": true
   },
   "outputs": [
    {
     "data": {
      "text/plain": [
       "Text(0.5, 1.0, 'asda')"
      ]
     },
     "execution_count": 65,
     "metadata": {},
     "output_type": "execute_result"
    },
    {
     "data": {
      "image/png": "[encoded data removed]",
      "text/plain": [
       "<Figure size 432x288 with 1 Axes>"
      ]
     },
     "metadata": {
      "needs_background": "light"
     },
     "output_type": "display_data"
    }
   ],
   "source": [
    "import matplotlib.pyplot as plt\n",
    "fig = plt.figure()\n",
    "ax1 = fig.add_subplot(2,2,1)\n",
    "\n",
    "# 可以直接使用子图绘图，linestyle是线的类型，color指定颜色，marker显示坐标系上的每一个点\n",
    "# linestyle有不指定（实线），--（虚线），\".\"（点线）\n",
    "# label是图例名称，但不知道为什么我的没显示\n",
    "ax1.plot([1,2,3,4],[2,3,4,5],linestyle=\"--\",color=\"g\",marker=\"o\",label = \"one\")\n",
    "ax1.plot([4,3,2,1],[2,3,4,5],label=\"two\")\n",
    "# 设置坐标轴的刻度和刻度的名称\n",
    "ticksx = ax1.set_xticks([0,1,2,3,4])\n",
    "ticksy = ax1.set_yticks([2,3,4,5,6])\n",
    "labels = ax1.set_xticklabels([\"one\",\"two\",\"three\",\"go\",\"dadsa\"],rotation=30,fontsize=\"small\")\n",
    "\n",
    "# 设置x轴标签\n",
    "ax1.set_xlabel(\"stafe\")\n",
    "\n",
    "# 设置标题\n",
    "ax1.set_title(\"asda\")"
   ]
  }
 ],
 "metadata": {
  "kernelspec": {
   "display_name": "Python 3",
   "language": "python",
   "name": "python3"
  },
  "language_info": {
   "codemirror_mode": {
    "name": "ipython",
    "version": 3
   },
   "file_extension": ".py",
   "mimetype": "text/x-python",
   "name": "python",
   "nbconvert_exporter": "python",
   "pygments_lexer": "ipython3",
   "version": "3.8.5"
  },
  "toc": {
   "base_numbering": 1,
   "nav_menu": {},
   "number_sections": true,
   "sideBar": true,
   "skip_h1_title": false,
   "title_cell": "Table of Contents",
   "title_sidebar": "Contents",
   "toc_cell": false,
   "toc_position": {},
   "toc_section_display": true,
   "toc_window_display": false
  }
 },
 "nbformat": 4,
 "nbformat_minor": 4
}
